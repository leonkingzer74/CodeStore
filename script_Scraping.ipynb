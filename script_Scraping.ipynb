{
  "nbformat": 4,
  "nbformat_minor": 0,
  "metadata": {
    "colab": {
      "provenance": [],
      "collapsed_sections": [],
      "authorship_tag": "ABX9TyPJGKYkdFIYdtvNTJiWhGMg",
      "include_colab_link": true
    },
    "kernelspec": {
      "name": "python3",
      "display_name": "Python 3"
    },
    "language_info": {
      "name": "python"
    }
  },
  "cells": [
    {
      "cell_type": "markdown",
      "metadata": {
        "id": "view-in-github",
        "colab_type": "text"
      },
      "source": [
        "<a href=\"https://colab.research.google.com/github/leonkingzer74/CodeStore/blob/main/script_Scraping.ipynb\" target=\"_parent\"><img src=\"https://colab.research.google.com/assets/colab-badge.svg\" alt=\"Open In Colab\"/></a>"
      ]
    },
    {
      "cell_type": "code",
      "source": [
        "#importation des librairies\n",
        "import pandas as pd\n",
        "import numpy as np\n",
        "import requests\n",
        "from bs4 import BeautifulSoup\n",
        "from time import sleep\n",
        "from random import randint\n",
        "\n",
        "#Declaration des en-tetes\n",
        "headers = {\"Accept-Language\": \"en-US,en;q=0.5\"}\n",
        "\n",
        "#declaration des listes de variables\n",
        "\n",
        "phrases = []\n",
        "\n",
        "#creation de tableau pour les url dynamiques\n",
        "pages = np.arange(1,1000,500)\n",
        "a=1000\n",
        "b='article'\n",
        "#boucle pour recuperer les textes\n",
        "for page in pages:\n",
        "    str=\"%s%s\" % (b,a)\n",
        "    page = requests.get(\"https://lefaso.net/spip.php?\"+str)\n",
        "    a=a+1\n",
        "    soup = BeautifulSoup(page.text, 'html.parser')\n",
        "    article_data = soup.findAll('div', attrs = {'class': 'article_content'})\n",
        "    sleep(randint(2,8))\n",
        "    for store in article_data:\n",
        "\n",
        "        mots = store.find_all('p')\n",
        "        description_ = mots[1].text.replace('\\n', '') if len(mots) >1 else '*****'\n",
        "        phrases.append(description_)\n",
        " \n",
        "      "
      ],
      "metadata": {
        "id": "hmpZEg14htEU"
      },
      "execution_count": 129,
      "outputs": []
    },
    {
      "cell_type": "code",
      "source": [
        "#creation de la dataframe\n",
        "df = pd.DataFrame({ \"paragraphe\": phrases})"
      ],
      "metadata": {
        "id": "cHU28QTzluks"
      },
      "execution_count": 130,
      "outputs": []
    },
    {
      "cell_type": "code",
      "source": [
        "#sauvegarde du fichier sous forme csv\n",
        "df.to_csv('scrappingDataHachathon.csv', index=False, encoding='utf-8')"
      ],
      "metadata": {
        "id": "RDWK_arEypI4"
      },
      "execution_count": 124,
      "outputs": []
    }
  ]
}